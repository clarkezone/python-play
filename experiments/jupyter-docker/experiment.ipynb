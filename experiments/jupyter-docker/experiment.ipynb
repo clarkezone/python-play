{
 "cells": [
  {
   "cell_type": "markdown",
   "id": "abb88f0e-f3fa-4ac9-807d-a39b6ac07f13",
   "metadata": {},
   "source": [
    "## Variables and Types"
   ]
  },
  {
   "cell_type": "code",
   "execution_count": 2,
   "id": "29fc75ed-2ab3-40bf-9c21-abd4d9ded353",
   "metadata": {},
   "outputs": [
    {
     "name": "stdout",
     "output_type": "stream",
     "text": [
      "cool\n"
     ]
    }
   ],
   "source": [
    "print(\"cool\")"
   ]
  },
  {
   "cell_type": "code",
   "execution_count": 5,
   "id": "0fbdcb13-690c-46f3-9783-5e6c6a986c67",
   "metadata": {},
   "outputs": [
    {
     "name": "stdout",
     "output_type": "stream",
     "text": [
      "<class 'str'>\n",
      "<class 'bool'>\n"
     ]
    },
    {
     "data": {
      "text/plain": [
       "str"
      ]
     },
     "execution_count": 5,
     "metadata": {},
     "output_type": "execute_result"
    }
   ],
   "source": [
    "print(type(\"hello\"))\n",
    "print(type(True))\n",
    "type(\"hello\")"
   ]
  },
  {
   "cell_type": "markdown",
   "id": "2adb164a-7300-4044-8b88-b0872af6dbdf",
   "metadata": {},
   "source": [
    "Typecast:"
   ]
  },
  {
   "cell_type": "code",
   "execution_count": 2,
   "id": "600107f1-7e89-4ef5-bfc9-ed5c763e955f",
   "metadata": {},
   "outputs": [
    {
     "name": "stdout",
     "output_type": "stream",
     "text": [
      "<class 'float'>\n"
     ]
    }
   ],
   "source": [
    "print(type(float(1)))"
   ]
  },
  {
   "cell_type": "code",
   "execution_count": 6,
   "id": "171ef6f8-552d-4644-85d5-f6d5ad47ddc0",
   "metadata": {},
   "outputs": [
    {
     "data": {
      "text/plain": [
       "1001"
      ]
     },
     "execution_count": 6,
     "metadata": {},
     "output_type": "execute_result"
    }
   ],
   "source": [
    "int(\"1001\")"
   ]
  },
  {
   "cell_type": "markdown",
   "id": "3e64e587-09bd-45a1-a8eb-ab0c126441a4",
   "metadata": {},
   "source": [
    "## Expressions and variables"
   ]
  },
  {
   "cell_type": "code",
   "execution_count": 3,
   "id": "ff808570-6915-4808-b5cc-1be8af7323ce",
   "metadata": {},
   "outputs": [
    {
     "data": {
      "text/plain": [
       "1"
      ]
     },
     "execution_count": 3,
     "metadata": {},
     "output_type": "execute_result"
    }
   ],
   "source": [
    "my_variable = 1\n",
    "\n",
    "my_variable"
   ]
  },
  {
   "cell_type": "markdown",
   "id": "7486a6df-10b1-4a52-a478-477957548cb1",
   "metadata": {},
   "source": [
    "## Strings"
   ]
  },
  {
   "cell_type": "code",
   "execution_count": 9,
   "id": "2365a42f-fb72-497c-8839-f7700ab8b517",
   "metadata": {},
   "outputs": [
    {
     "name": "stdout",
     "output_type": "stream",
     "text": [
      "This\n",
      "Ti sats\n",
      "Ti \n"
     ]
    }
   ],
   "source": [
    "foo = \"This is a test\"\n",
    "print(foo[0:4])\n",
    "print(foo[::2]) # Striding, every 2nd character\n",
    "print(foo[0:5:2])"
   ]
  },
  {
   "cell_type": "code",
   "execution_count": 10,
   "id": "741d7b97-d7f8-44df-a0cc-ecee1b7e4340",
   "metadata": {},
   "outputs": [
    {
     "name": "stdout",
     "output_type": "stream",
     "text": [
      "14\n"
     ]
    }
   ],
   "source": [
    "print(len(foo))"
   ]
  },
  {
   "cell_type": "code",
   "execution_count": 11,
   "id": "83239be0-15c7-40c8-9994-029dbabc31c9",
   "metadata": {},
   "outputs": [
    {
     "name": "stdout",
     "output_type": "stream",
     "text": [
      "foo bar\n"
     ]
    }
   ],
   "source": [
    "print(\"foo \" + \"bar\")"
   ]
  },
  {
   "cell_type": "code",
   "execution_count": 12,
   "id": "94d0ca71-7be8-42da-b3d3-b6bee96225a0",
   "metadata": {},
   "outputs": [
    {
     "name": "stdout",
     "output_type": "stream",
     "text": [
      "This is a testThis is a testThis is a test\n"
     ]
    }
   ],
   "source": [
    "print(3 * foo)"
   ]
  },
  {
   "cell_type": "code",
   "execution_count": 14,
   "id": "caf18f7c-e2ff-4b4d-8439-2ad29e57215d",
   "metadata": {},
   "outputs": [
    {
     "ename": "TypeError",
     "evalue": "'str' object does not support item assignment",
     "output_type": "error",
     "traceback": [
      "\u001b[0;31m---------------------------------------------------------------------------\u001b[0m",
      "\u001b[0;31mTypeError\u001b[0m                                 Traceback (most recent call last)",
      "Cell \u001b[0;32mIn[14], line 3\u001b[0m\n\u001b[1;32m      1\u001b[0m \u001b[38;5;66;03m# Strings are immutable\u001b[39;00m\n\u001b[1;32m      2\u001b[0m Name \u001b[38;5;241m=\u001b[39m \u001b[38;5;124m\"\u001b[39m\u001b[38;5;124mJames\u001b[39m\u001b[38;5;124m\"\u001b[39m\n\u001b[0;32m----> 3\u001b[0m \u001b[43mName\u001b[49m\u001b[43m[\u001b[49m\u001b[38;5;241;43m0\u001b[39;49m\u001b[43m]\u001b[49m \u001b[38;5;241m=\u001b[39m \u001b[38;5;124m\"\u001b[39m\u001b[38;5;124ms\u001b[39m\u001b[38;5;124m\"\u001b[39m\n",
      "\u001b[0;31mTypeError\u001b[0m: 'str' object does not support item assignment"
     ]
    }
   ],
   "source": [
    "# Strings are immutable\n",
    "Name = \"James\"\n",
    "Name[0] = \"s\""
   ]
  },
  {
   "cell_type": "code",
   "execution_count": 15,
   "id": "e3318b9c-1826-4251-aac3-e6ca81061a49",
   "metadata": {},
   "outputs": [],
   "source": [
    "# you can escape an individual character \"//\" or whole string r\"/\""
   ]
  },
  {
   "cell_type": "code",
   "execution_count": 19,
   "id": "ec55a12f-d0e1-46e4-b01c-7708a0e6be1c",
   "metadata": {},
   "outputs": [
    {
     "name": "stdout",
     "output_type": "stream",
     "text": [
      "BOO\n"
     ]
    }
   ],
   "source": [
    "myvar = \"Boo\"\n",
    "myvar = myvar.upper()\n",
    "print(myvar)"
   ]
  },
  {
   "cell_type": "markdown",
   "id": "8571aa37-3db5-4943-a9a5-42079cffa3ef",
   "metadata": {},
   "source": [
    "### Format String and Regex"
   ]
  },
  {
   "cell_type": "code",
   "execution_count": 20,
   "id": "681fdb17-7f0b-4614-b27c-ce6417560ed9",
   "metadata": {},
   "outputs": [
    {
     "name": "stdout",
     "output_type": "stream",
     "text": [
      "My name is John and I am 30 years old.\n"
     ]
    }
   ],
   "source": [
    "name = \"John\"\n",
    "age = 30\n",
    "print(f\"My name is {name} and I am {age} years old.\")"
   ]
  },
  {
   "cell_type": "code",
   "execution_count": 24,
   "id": "88c722cd-d060-40b6-bc04-92f206c2546e",
   "metadata": {},
   "outputs": [
    {
     "name": "stdout",
     "output_type": "stream",
     "text": [
      "My name is John and I am 30 years old.\n"
     ]
    }
   ],
   "source": [
    "name = \"John\"\n",
    "age = 30\n",
    "print(\"My name is {} and I am {} years old.\".format(name, age))"
   ]
  },
  {
   "cell_type": "code",
   "execution_count": 26,
   "id": "91f979a9-dbde-4fba-a8b2-d500c42c8698",
   "metadata": {},
   "outputs": [
    {
     "name": "stdout",
     "output_type": "stream",
     "text": [
      "Match found\n"
     ]
    }
   ],
   "source": [
    "import re #regular expressions\n",
    "s1 = \"The BodyGuard is\"\n",
    "pattern = r\"Body\"\n",
    "result = re.search(pattern, s1)\n",
    "result\n",
    "if result:\n",
    "    print(\"Match found\")\n",
    "else:\n",
    "    print(\"Not found\")\n",
    "\n",
    "#See also re.findall, re.split, re.sub\n"
   ]
  },
  {
   "cell_type": "code",
   "execution_count": 27,
   "id": "7899fdc4-78e8-4932-ad49-f1a7faa8f964",
   "metadata": {},
   "outputs": [
    {
     "data": {
      "text/plain": [
       "'n'"
      ]
     },
     "execution_count": 27,
     "metadata": {},
     "output_type": "execute_result"
    }
   ],
   "source": [
    "Name = \"Michael Jackson\"\n",
    "Name[-1]"
   ]
  },
  {
   "cell_type": "code",
   "execution_count": 29,
   "id": "72fa25f6-bf1b-41ae-ad64-458e7dfa8086",
   "metadata": {},
   "outputs": [
    {
     "data": {
      "text/plain": [
       "5"
      ]
     },
     "execution_count": 29,
     "metadata": {},
     "output_type": "execute_result"
    }
   ],
   "source": [
    "\"helloMike\".find(\"Mike\")"
   ]
  },
  {
   "cell_type": "code",
   "execution_count": 45,
   "id": "1548d182-0b05-4681-957b-82acb3ddc215",
   "metadata": {},
   "outputs": [
    {
     "data": {
      "text/plain": [
       "'Python'"
      ]
     },
     "execution_count": 45,
     "metadata": {},
     "output_type": "execute_result"
    }
   ],
   "source": [
    "\"Fun Python\"[4:10]"
   ]
  },
  {
   "cell_type": "markdown",
   "id": "f97a9df4-b5e5-4937-8583-38538a6bd57e",
   "metadata": {},
   "source": [
    "## Tuples"
   ]
  },
  {
   "cell_type": "code",
   "execution_count": 52,
   "id": "c2f8d8cb-f6cf-4eee-a099-bd1fc284328b",
   "metadata": {},
   "outputs": [
    {
     "name": "stdout",
     "output_type": "stream",
     "text": [
      "('Hello', 1, 12.3, 'more', 'bread', 'brackets')\n"
     ]
    },
    {
     "data": {
      "text/plain": [
       "['apple', 'bananna']"
      ]
     },
     "execution_count": 52,
     "metadata": {},
     "output_type": "execute_result"
    }
   ],
   "source": [
    "foo = (\"Hello\", 1, 12.3)\n",
    "type(foo)\n",
    "\n",
    "foo = foo + (\"more\", \"bread\")\n",
    "foo = foo + (\"brackets\",)\n",
    "print(foo)\n",
    "len(foo)\n",
    "bar = (\"bananna\", \"apple\") # tuples are ordered sequence\n",
    "sorted(bar) # creates a new one as tuples are immutable"
   ]
  },
  {
   "cell_type": "markdown",
   "id": "0f01f397-e1af-4922-9c3a-4575062aa0f8",
   "metadata": {},
   "source": [
    "## Lists"
   ]
  },
  {
   "cell_type": "code",
   "execution_count": 72,
   "id": "3fa367c3-fe62-4e5e-88ed-974deefee960",
   "metadata": {},
   "outputs": [
    {
     "name": "stdout",
     "output_type": "stream",
     "text": [
      "['Hello', 'world']\n",
      "world\n",
      "['Hello', 'world', 0.1, 0.2]\n",
      "['Hello', 'world', 0.1, 0.2, 'a', 'd', 'd', 'e', 'd', 't', 'o', 'u', 'n', 'i', 'o', 'n']\n",
      "['Hello', 'world', 0.1, 0.2, 'a', 'd', 'd', 'e', 'd', 't', 'o', 'u', 'n', 'i', 'o', 'n', 'Appended']\n",
      "['world']\n",
      "Split result ['hello', 'world']\n",
      "Initial ['clint', 'world'] clone modified hello world\n",
      "No Python documentation found for 'hello world'.\n",
      "Use help() to get the interactive help utility.\n",
      "Use help(str) for help on the str class.\n",
      "\n",
      "['Foo']\n"
     ]
    }
   ],
   "source": [
    "mylist = [\"Hello\", \"Bingo\"]\n",
    "mylist[1] = \"world\" # lists are mutable\n",
    "print(mylist)\n",
    "print(mylist[-1]) #can use negative indexes, -1 is last item\n",
    "\n",
    "newlist = [0.1, 0.2]\n",
    "unionlist = mylist + newlist\n",
    "print(unionlist)\n",
    "unionlist.extend(\"addedtounion\")\n",
    "print(unionlist)\n",
    "unionlist.append(\"Appended\")\n",
    "print(unionlist)\n",
    "del(mylist[0])\n",
    "print(mylist)\n",
    "\n",
    "astring = \"hello world\"\n",
    "listfromstring = astring.split() #can use a delimiter as well\n",
    "print(f\"Split result {listfromstring}\")\n",
    "\n",
    "listfromstringclone = astring[:]\n",
    "listfromstring[0] = \"clint\"\n",
    "# listfromstringclone[0] = \"fred\" #Clone is read only why?\n",
    "print(f\"Initial {listfromstring} clone modified {listfromstringclone}\")\n",
    "\n",
    "# getting help\n",
    "help(listfromstringclone)\n",
    "\n",
    "empty = []\n",
    "empty.append(\"Foo\")\n",
    "print(empty)"
   ]
  },
  {
   "cell_type": "code",
   "execution_count": null,
   "id": "fd301447-1b84-495f-9f46-7733e0c3b5fa",
   "metadata": {},
   "outputs": [],
   "source": []
  }
 ],
 "metadata": {
  "kernelspec": {
   "display_name": "Python 3 (ipykernel)",
   "language": "python",
   "name": "python3"
  },
  "language_info": {
   "codemirror_mode": {
    "name": "ipython",
    "version": 3
   },
   "file_extension": ".py",
   "mimetype": "text/x-python",
   "name": "python",
   "nbconvert_exporter": "python",
   "pygments_lexer": "ipython3",
   "version": "3.11.6"
  }
 },
 "nbformat": 4,
 "nbformat_minor": 5
}
